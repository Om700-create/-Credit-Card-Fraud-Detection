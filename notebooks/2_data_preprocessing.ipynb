{
 "cells": [
  {
   "cell_type": "code",
   "execution_count": 1,
   "metadata": {},
   "outputs": [
    {
     "name": "stderr",
     "output_type": "stream",
     "text": [
      "2025-02-22 20:15:58,683 - INFO - Loading data from C:\\project\\-Credit-Card-Fraud-Detection\\data\\raw\\creditcard.csv\n"
     ]
    },
    {
     "name": "stdout",
     "output_type": "stream",
     "text": [
      "First 5 rows of the raw dataset:\n",
      "   Time        V1        V2        V3        V4        V5        V6        V7  \\\n",
      "0   0.0 -1.359807 -0.072781  2.536347  1.378155 -0.338321  0.462388  0.239599   \n",
      "1   0.0  1.191857  0.266151  0.166480  0.448154  0.060018 -0.082361 -0.078803   \n",
      "2   1.0 -1.358354 -1.340163  1.773209  0.379780 -0.503198  1.800499  0.791461   \n",
      "3   1.0 -0.966272 -0.185226  1.792993 -0.863291 -0.010309  1.247203  0.237609   \n",
      "4   2.0 -1.158233  0.877737  1.548718  0.403034 -0.407193  0.095921  0.592941   \n",
      "\n",
      "         V8        V9  ...       V21       V22       V23       V24       V25  \\\n",
      "0  0.098698  0.363787  ... -0.018307  0.277838 -0.110474  0.066928  0.128539   \n",
      "1  0.085102 -0.255425  ... -0.225775 -0.638672  0.101288 -0.339846  0.167170   \n",
      "2  0.247676 -1.514654  ...  0.247998  0.771679  0.909412 -0.689281 -0.327642   \n",
      "3  0.377436 -1.387024  ... -0.108300  0.005274 -0.190321 -1.175575  0.647376   \n",
      "4 -0.270533  0.817739  ... -0.009431  0.798278 -0.137458  0.141267 -0.206010   \n",
      "\n",
      "        V26       V27       V28  Amount  Class  \n",
      "0 -0.189115  0.133558 -0.021053  149.62      0  \n",
      "1  0.125895 -0.008983  0.014724    2.69      0  \n",
      "2 -0.139097 -0.055353 -0.059752  378.66      0  \n",
      "3 -0.221929  0.062723  0.061458  123.50      0  \n",
      "4  0.502292  0.219422  0.215153   69.99      0  \n",
      "\n",
      "[5 rows x 31 columns]\n",
      "\n",
      "Dataset Info:\n",
      "<class 'pandas.core.frame.DataFrame'>\n",
      "RangeIndex: 284807 entries, 0 to 284806\n",
      "Data columns (total 31 columns):\n",
      " #   Column  Non-Null Count   Dtype  \n",
      "---  ------  --------------   -----  \n",
      " 0   Time    284807 non-null  float64\n",
      " 1   V1      284807 non-null  float64\n",
      " 2   V2      284807 non-null  float64\n",
      " 3   V3      284807 non-null  float64\n",
      " 4   V4      284807 non-null  float64\n",
      " 5   V5      284807 non-null  float64\n",
      " 6   V6      284807 non-null  float64\n",
      " 7   V7      284807 non-null  float64\n",
      " 8   V8      284807 non-null  float64\n",
      " 9   V9      284807 non-null  float64\n",
      " 10  V10     284807 non-null  float64\n",
      " 11  V11     284807 non-null  float64\n",
      " 12  V12     284807 non-null  float64\n",
      " 13  V13     284807 non-null  float64\n",
      " 14  V14     284807 non-null  float64\n",
      " 15  V15     284807 non-null  float64\n",
      " 16  V16     284807 non-null  float64\n",
      " 17  V17     284807 non-null  float64\n",
      " 18  V18     284807 non-null  float64\n",
      " 19  V19     284807 non-null  float64\n",
      " 20  V20     284807 non-null  float64\n",
      " 21  V21     284807 non-null  float64\n",
      " 22  V22     284807 non-null  float64\n",
      " 23  V23     284807 non-null  float64\n",
      " 24  V24     284807 non-null  float64\n",
      " 25  V25     284807 non-null  float64\n",
      " 26  V26     284807 non-null  float64\n",
      " 27  V27     284807 non-null  float64\n",
      " 28  V28     284807 non-null  float64\n",
      " 29  Amount  284807 non-null  float64\n",
      " 30  Class   284807 non-null  int64  \n",
      "dtypes: float64(30), int64(1)\n",
      "memory usage: 67.4 MB\n",
      "None\n",
      "\n",
      "Dataset Shape:\n",
      "(284807, 31)\n",
      "\n",
      "Class Distribution:\n",
      "Class\n",
      "0    284315\n",
      "1       492\n",
      "Name: count, dtype: int64\n"
     ]
    }
   ],
   "source": [
    "import pandas as pd\n",
    "from scripts.config import RAW_DATA_PATH, PROCESSED_DATA_PATH, TARGET_COLUMN\n",
    "from scripts.utils import load_data, save_data\n",
    "\n",
    "# Load the raw dataset\n",
    "df = load_data(RAW_DATA_PATH)\n",
    "\n",
    "# Display the first 5 rows of the dataset\n",
    "print(\"First 5 rows of the raw dataset:\")\n",
    "print(df.head())\n",
    "\n",
    "# Display basic information about the dataset\n",
    "print(\"\\nDataset Info:\")\n",
    "print(df.info())\n",
    "\n",
    "# Display the shape of the dataset\n",
    "print(\"\\nDataset Shape:\")\n",
    "print(df.shape)\n",
    "\n",
    "# Display class distribution\n",
    "print(\"\\nClass Distribution:\")\n",
    "print(df[TARGET_COLUMN].value_counts())"
   ]
  },
  {
   "cell_type": "markdown",
   "metadata": {},
   "source": [
    "Observations from Step 1:\n",
    "First 5 Rows:\n",
    "\n",
    "The dataset contains 31 columns, including Time, V1 to V28 (PCA-transformed features), Amount, and Class (target variable).\n",
    "\n",
    "Dataset Info:\n",
    "\n",
    "The dataset has 284,807 rows and 31 columns.\n",
    "\n",
    "All columns are of type float64 except for Class, which is int64.\n",
    "\n",
    "There are no missing values in the dataset.\n",
    "\n",
    "Class Distribution:\n",
    "\n",
    "Non-Fraudulent Transactions (Class 0): 284,315\n",
    "\n",
    "Fraudulent Transactions (Class 1): 492\n",
    "\n",
    "The dataset is highly imbalanced, with only 0.17% of transactions being fraudulent.\n",
    "\n"
   ]
  },
  {
   "cell_type": "code",
   "execution_count": 2,
   "metadata": {},
   "outputs": [
    {
     "name": "stdout",
     "output_type": "stream",
     "text": [
      "Class Distribution After SMOTE:\n",
      "Class\n",
      "0    284315\n",
      "1    284315\n",
      "Name: count, dtype: int64\n"
     ]
    }
   ],
   "source": [
    "from imblearn.over_sampling import SMOTE\n",
    "from scripts.config import TARGET_COLUMN, RANDOM_STATE\n",
    "\n",
    "# Separate features and target\n",
    "X = df.drop(columns=[TARGET_COLUMN])\n",
    "y = df[TARGET_COLUMN]\n",
    "\n",
    "# Apply SMOTE to balance the dataset\n",
    "smote = SMOTE(random_state=RANDOM_STATE)\n",
    "X_res, y_res = smote.fit_resample(X, y)\n",
    "\n",
    "# Check the new class distribution\n",
    "print(\"Class Distribution After SMOTE:\")\n",
    "print(y_res.value_counts())"
   ]
  },
  {
   "cell_type": "markdown",
   "metadata": {},
   "source": [
    "Class Distribution After SMOTE:\n",
    "\n",
    "Both classes now have 284,315 samples each.\n",
    "\n",
    "The dataset is perfectly balanced, which will help the model learn to detect fraudulent transactions more effectively.\n",
    "\n",
    "Key Insights:\n",
    "\n",
    "SMOTE has successfully generated synthetic samples for the minority class (fraudulent transactions).\n",
    "\n",
    "The balanced dataset will improve the model’s ability to generalize and detect fraud.\n",
    "\n"
   ]
  },
  {
   "cell_type": "code",
   "execution_count": 3,
   "metadata": {},
   "outputs": [
    {
     "name": "stdout",
     "output_type": "stream",
     "text": [
      "Training Set Shape:\n",
      "(454904, 30) (454904,)\n",
      "\n",
      "Testing Set Shape:\n",
      "(113726, 30) (113726,)\n"
     ]
    }
   ],
   "source": [
    "from sklearn.model_selection import train_test_split\n",
    "from scripts.config import TEST_SIZE, RANDOM_STATE\n",
    "\n",
    "# Split the dataset into training and testing sets\n",
    "X_train, X_test, y_train, y_test = train_test_split(X_res, y_res, test_size=TEST_SIZE, random_state=RANDOM_STATE)\n",
    "\n",
    "# Display the shapes of the resulting datasets\n",
    "print(\"Training Set Shape:\")\n",
    "print(X_train.shape, y_train.shape)\n",
    "\n",
    "print(\"\\nTesting Set Shape:\")\n",
    "print(X_test.shape, y_test.shape)"
   ]
  },
  {
   "cell_type": "code",
   "execution_count": 5,
   "metadata": {},
   "outputs": [
    {
     "name": "stderr",
     "output_type": "stream",
     "text": [
      "2025-02-22 20:22:37,289 - INFO - Saving data to C:\\project\\-Credit-Card-Fraud-Detection\\data\\processed\\processed_data_train.csv\n",
      "2025-02-22 20:22:50,232 - INFO - Saving data to C:\\project\\-Credit-Card-Fraud-Detection\\data\\processed\\processed_data_test.csv\n"
     ]
    },
    {
     "name": "stdout",
     "output_type": "stream",
     "text": [
      "Training set saved to C:\\project\\-Credit-Card-Fraud-Detection\\data\\processed\\processed_data_train.csv\n",
      "Testing set saved to C:\\project\\-Credit-Card-Fraud-Detection\\data\\processed\\processed_data_test.csv\n"
     ]
    }
   ],
   "source": [
    "import pandas as pd\n",
    "from scripts.config import PROCESSED_DATA_PATH\n",
    "from scripts.utils import save_data\n",
    "\n",
    "# Combine features and target for training and testing sets\n",
    "train_df = pd.DataFrame(X_train, columns=X.columns)\n",
    "train_df[TARGET_COLUMN] = y_train\n",
    "\n",
    "test_df = pd.DataFrame(X_test, columns=X.columns)\n",
    "test_df[TARGET_COLUMN] = y_test\n",
    "\n",
    "# Convert Path object to string and modify the file names\n",
    "train_path = str(PROCESSED_DATA_PATH).replace(\".csv\", \"_train.csv\")\n",
    "test_path = str(PROCESSED_DATA_PATH).replace(\".csv\", \"_test.csv\")\n",
    "\n",
    "# Save the training and testing sets\n",
    "save_data(train_df, train_path)\n",
    "save_data(test_df, test_path)\n",
    "\n",
    "print(f\"Training set saved to {train_path}\")\n",
    "print(f\"Testing set saved to {test_path}\")"
   ]
  },
  {
   "cell_type": "code",
   "execution_count": null,
   "metadata": {},
   "outputs": [],
   "source": []
  }
 ],
 "metadata": {
  "kernelspec": {
   "display_name": "credit",
   "language": "python",
   "name": "python3"
  },
  "language_info": {
   "codemirror_mode": {
    "name": "ipython",
    "version": 3
   },
   "file_extension": ".py",
   "mimetype": "text/x-python",
   "name": "python",
   "nbconvert_exporter": "python",
   "pygments_lexer": "ipython3",
   "version": "3.12.4"
  }
 },
 "nbformat": 4,
 "nbformat_minor": 2
}
