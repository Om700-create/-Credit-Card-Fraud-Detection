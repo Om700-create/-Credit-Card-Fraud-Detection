{
 "cells": [
  {
   "cell_type": "code",
   "execution_count": 1,
   "metadata": {},
   "outputs": [
    {
     "name": "stderr",
     "output_type": "stream",
     "text": [
      "2025-02-22 23:17:27,263 - INFO - Loading data from C:\\project\\-Credit-Card-Fraud-Detection\\data\\processed\\processed_data_train.csv\n",
      "2025-02-22 23:17:30,174 - INFO - Loading data from C:\\project\\-Credit-Card-Fraud-Detection\\data\\processed\\processed_data_test.csv\n"
     ]
    },
    {
     "name": "stdout",
     "output_type": "stream",
     "text": [
      "First 5 rows of the training set:\n",
      "            Time        V1        V2        V3        V4        V5        V6  \\\n",
      "0  135001.676696  1.282330  0.875020 -2.507626  2.071007  0.505984 -0.679542   \n",
      "1  102650.727183 -4.193704  5.093261 -8.889153  7.062972 -3.263271 -1.922530   \n",
      "2  140109.783604  0.782775  2.503060 -5.236965  3.786795  1.762973 -0.940165   \n",
      "3   62934.000000 -1.119211 -0.076681  2.532709  0.480750 -0.939219  0.296271   \n",
      "4  122324.000000  2.048996 -0.366883 -2.543852 -0.728626  2.387568  3.318339   \n",
      "\n",
      "         V7        V8        V9  ...       V21       V22       V23       V24  \\\n",
      "0 -0.327953 -0.982698 -0.632150  ... -0.341666 -0.018783 -0.050106  0.186553   \n",
      "1 -6.041619  2.745936 -3.466607  ...  1.215907  0.579972  0.041185 -0.462953   \n",
      "2 -0.563909 -0.801622 -1.738874  ...  1.257866 -0.182190  0.134185 -1.445014   \n",
      "3 -0.722636  0.130148  1.505440  ...  0.016087  0.576419 -0.172156  0.554262   \n",
      "4 -0.477944  0.791325  0.403268  ... -0.292818 -0.835277  0.380947  0.698226   \n",
      "\n",
      "        V25       V26       V27       V28     Amount  Class  \n",
      "0  0.247057  0.161162  0.185868  0.182155  76.409529      1  \n",
      "1  0.103669  0.270370 -0.083607 -0.620475  67.092732      1  \n",
      "2 -0.726759  0.059674  0.407264  0.200170  42.488304      1  \n",
      "3 -0.706867  1.076114 -0.329812  0.256419  24.330000      0  \n",
      "4 -0.265129  0.219179 -0.052301 -0.066783   1.790000      0  \n",
      "\n",
      "[5 rows x 31 columns]\n",
      "\n",
      "Training Set Shape:\n",
      "(454904, 31)\n",
      "\n",
      "Testing Set Shape:\n",
      "(113726, 31)\n",
      "\n",
      "Class Distribution in Training Set:\n",
      "Class\n",
      "0    227565\n",
      "1    227339\n",
      "Name: count, dtype: int64\n"
     ]
    }
   ],
   "source": [
    "import pandas as pd\n",
    "from scripts.config import PROCESSED_DATA_PATH, TARGET_COLUMN\n",
    "from scripts.utils import load_data\n",
    "\n",
    "# Load the processed training and testing sets\n",
    "train_path = str(PROCESSED_DATA_PATH).replace(\".csv\", \"_train.csv\")\n",
    "test_path = str(PROCESSED_DATA_PATH).replace(\".csv\", \"_test.csv\")\n",
    "\n",
    "train_df = load_data(train_path)\n",
    "test_df = load_data(test_path)\n",
    "\n",
    "# Display the first 5 rows of the training set\n",
    "print(\"First 5 rows of the training set:\")\n",
    "print(train_df.head())\n",
    "\n",
    "# Display the shape of the training and testing sets\n",
    "print(\"\\nTraining Set Shape:\")\n",
    "print(train_df.shape)\n",
    "\n",
    "print(\"\\nTesting Set Shape:\")\n",
    "print(test_df.shape)\n",
    "\n",
    "# Check class distribution in the training set\n",
    "print(\"\\nClass Distribution in Training Set:\")\n",
    "print(train_df[TARGET_COLUMN].value_counts())"
   ]
  },
  {
   "cell_type": "markdown",
   "metadata": {},
   "source": [
    "Observations from Step 1:\n",
    "First 5 Rows:\n",
    "\n",
    "The training dataset contains the same features as the raw dataset, along with the target variable (Class).\n",
    "\n",
    "The data has been preprocessed and balanced using SMOTE.\n",
    "\n",
    "Dataset Shapes:\n",
    "\n",
    "Training Set: 454,904 rows and 31 columns.\n",
    "\n",
    "Testing Set: 113,726 rows and 31 columns.\n",
    "\n",
    "Class Distribution:\n",
    "\n",
    "Training Set:\n",
    "\n",
    "Non-Fraudulent Transactions (Class 0): 227,565\n",
    "\n",
    "Fraudulent Transactions (Class 1): 227,339\n",
    "\n",
    "The dataset is now balanced, which is ideal for training a machine learning model.\n",
    "\n"
   ]
  },
  {
   "cell_type": "code",
   "execution_count": 2,
   "metadata": {},
   "outputs": [
    {
     "name": "stderr",
     "output_type": "stream",
     "text": [
      "c:\\Users\\om\\anaconda3\\envs\\credit\\Lib\\site-packages\\sklearn\\linear_model\\_logistic.py:465: ConvergenceWarning: lbfgs failed to converge (status=1):\n",
      "STOP: TOTAL NO. OF ITERATIONS REACHED LIMIT.\n",
      "\n",
      "Increase the number of iterations (max_iter) or scale the data as shown in:\n",
      "    https://scikit-learn.org/stable/modules/preprocessing.html\n",
      "Please also refer to the documentation for alternative solver options:\n",
      "    https://scikit-learn.org/stable/modules/linear_model.html#logistic-regression\n",
      "  n_iter_i = _check_optimize_result(\n"
     ]
    },
    {
     "name": "stdout",
     "output_type": "stream",
     "text": [
      "Classification Report:\n",
      "              precision    recall  f1-score   support\n",
      "\n",
      "           0       0.97      0.99      0.98     56750\n",
      "           1       0.99      0.97      0.98     56976\n",
      "\n",
      "    accuracy                           0.98    113726\n",
      "   macro avg       0.98      0.98      0.98    113726\n",
      "weighted avg       0.98      0.98      0.98    113726\n",
      "\n",
      "\n",
      "Confusion Matrix:\n",
      "[[56184   566]\n",
      " [ 1681 55295]]\n",
      "\n",
      "ROC-AUC Score:\n",
      "0.9973901169609093\n"
     ]
    }
   ],
   "source": [
    "from sklearn.linear_model import LogisticRegression\n",
    "from sklearn.metrics import classification_report, confusion_matrix, roc_auc_score\n",
    "from scripts.config import TARGET_COLUMN\n",
    "\n",
    "# Separate features and target for training and testing sets\n",
    "X_train = train_df.drop(columns=[TARGET_COLUMN])\n",
    "y_train = train_df[TARGET_COLUMN]\n",
    "\n",
    "X_test = test_df.drop(columns=[TARGET_COLUMN])\n",
    "y_test = test_df[TARGET_COLUMN]\n",
    "\n",
    "# Train a Logistic Regression model\n",
    "model = LogisticRegression(random_state=42, max_iter=1000)\n",
    "model.fit(X_train, y_train)\n",
    "\n",
    "# Make predictions on the testing set\n",
    "y_pred = model.predict(X_test)\n",
    "y_pred_proba = model.predict_proba(X_test)[:, 1]\n",
    "\n",
    "# Evaluate the model\n",
    "print(\"Classification Report:\")\n",
    "print(classification_report(y_test, y_pred))\n",
    "\n",
    "print(\"\\nConfusion Matrix:\")\n",
    "print(confusion_matrix(y_test, y_pred))\n",
    "\n",
    "print(\"\\nROC-AUC Score:\")\n",
    "print(roc_auc_score(y_test, y_pred_proba))"
   ]
  },
  {
   "cell_type": "markdown",
   "metadata": {},
   "source": [
    "Observations from Step 2:\n",
    "Convergence Warning:\n",
    "\n",
    "The Logistic Regression model did not fully converge within the default number of iterations (max_iter=100).\n",
    "\n",
    "This is not a critical issue, as the model still performed well. However, increasing max_iter or scaling the data could help achieve convergence.\n",
    "\n",
    "Classification Report:\n",
    "\n",
    "Precision: 0.97 for non-fraudulent transactions (0) and 0.99 for fraudulent transactions (1).\n",
    "\n",
    "Recall: 0.99 for non-fraudulent transactions and 0.97 for fraudulent transactions.\n",
    "\n",
    "F1-Score: 0.98 for both classes.\n",
    "\n",
    "The model performs well on both classes, with high precision and recall.\n",
    "\n",
    "Confusion Matrix:\n",
    "\n",
    "True Positives (TP): 55,295 (correctly predicted fraudulent transactions).\n",
    "\n",
    "True Negatives (TN): 56,184 (correctly predicted non-fraudulent transactions).\n",
    "\n",
    "False Positives (FP): 566 (non-fraudulent transactions incorrectly predicted as fraudulent).\n",
    "\n",
    "False Negatives (FN): 1,681 (fraudulent transactions incorrectly predicted as non-fraudulent).\n",
    "\n",
    "ROC-AUC Score:\n",
    "\n",
    "The ROC-AUC score is 0.9974, which is excellent. This indicates that the model can distinguish between fraudulent and non-fraudulent transactions with high accuracy.\n",
    "\n"
   ]
  },
  {
   "cell_type": "code",
   "execution_count": 3,
   "metadata": {},
   "outputs": [
    {
     "name": "stdout",
     "output_type": "stream",
     "text": [
      "Classification Report (Random Forest):\n",
      "              precision    recall  f1-score   support\n",
      "\n",
      "           0       1.00      1.00      1.00     56750\n",
      "           1       1.00      1.00      1.00     56976\n",
      "\n",
      "    accuracy                           1.00    113726\n",
      "   macro avg       1.00      1.00      1.00    113726\n",
      "weighted avg       1.00      1.00      1.00    113726\n",
      "\n",
      "\n",
      "Confusion Matrix (Random Forest):\n",
      "[[56739    11]\n",
      " [    0 56976]]\n",
      "\n",
      "ROC-AUC Score (Random Forest):\n",
      "0.9999903079989163\n"
     ]
    }
   ],
   "source": [
    "from sklearn.ensemble import RandomForestClassifier\n",
    "from sklearn.metrics import classification_report, confusion_matrix, roc_auc_score\n",
    "\n",
    "# Train a Random Forest model\n",
    "rf_model = RandomForestClassifier(random_state=42, n_estimators=100)\n",
    "rf_model.fit(X_train, y_train)\n",
    "\n",
    "# Make predictions on the testing set\n",
    "y_pred_rf = rf_model.predict(X_test)\n",
    "y_pred_proba_rf = rf_model.predict_proba(X_test)[:, 1]\n",
    "\n",
    "# Evaluate the model\n",
    "print(\"Classification Report (Random Forest):\")\n",
    "print(classification_report(y_test, y_pred_rf))\n",
    "\n",
    "print(\"\\nConfusion Matrix (Random Forest):\")\n",
    "print(confusion_matrix(y_test, y_pred_rf))\n",
    "\n",
    "print(\"\\nROC-AUC Score (Random Forest):\")\n",
    "print(roc_auc_score(y_test, y_pred_proba_rf))"
   ]
  },
  {
   "cell_type": "markdown",
   "metadata": {},
   "source": [
    "Observations from Step 3:\n",
    "Classification Report:\n",
    "\n",
    "Precision: 1.00 for both non-fraudulent (0) and fraudulent (1) transactions.\n",
    "\n",
    "Recall: 1.00 for both classes.\n",
    "\n",
    "F1-Score: 1.00 for both classes.\n",
    "\n",
    "The model achieves perfect classification on the testing set.\n",
    "\n",
    "Confusion Matrix:\n",
    "\n",
    "True Positives (TP): 56,976 (all fraudulent transactions correctly predicted).\n",
    "\n",
    "True Negatives (TN): 56,739 (all non-fraudulent transactions correctly predicted).\n",
    "\n",
    "False Positives (FP): 11 (non-fraudulent transactions incorrectly predicted as fraudulent).\n",
    "\n",
    "False Negatives (FN): 0 (no fraudulent transactions incorrectly predicted as non-fraudulent).\n",
    "\n",
    "ROC-AUC Score:\n",
    "\n",
    "The ROC-AUC score is 0.99999, which is almost perfect. This indicates that the model can distinguish between fraudulent and non-fraudulent transactions with near-perfect accuracy.\n",
    "\n"
   ]
  },
  {
   "cell_type": "code",
   "execution_count": 4,
   "metadata": {},
   "outputs": [
    {
     "name": "stderr",
     "output_type": "stream",
     "text": [
      "C:\\Users\\om\\AppData\\Local\\Temp\\ipykernel_15704\\4029679345.py:14: FutureWarning: \n",
      "\n",
      "Passing `palette` without assigning `hue` is deprecated and will be removed in v0.14.0. Assign the `y` variable to `hue` and set `legend=False` for the same effect.\n",
      "\n",
      "  sns.barplot(x=\"Importance\", y=\"Feature\", data=importance_df, palette=\"viridis\")\n"
     ]
    },
    {
     "data": {
      "image/png": "[encoded data removed]",
      "text/plain": [
       "<Figure size 1200x800 with 1 Axes>"
      ]
     },
     "metadata": {},
     "output_type": "display_data"
    },
    {
     "name": "stdout",
     "output_type": "stream",
     "text": [
      "Top 10 Most Important Features:\n",
      "   Feature  Importance\n",
      "14     V14    0.214136\n",
      "10     V10    0.124265\n",
      "12     V12    0.114042\n",
      "4       V4    0.108241\n",
      "17     V17    0.086237\n",
      "3       V3    0.072421\n",
      "11     V11    0.050144\n",
      "16     V16    0.042124\n",
      "2       V2    0.039670\n",
      "9       V9    0.026981\n"
     ]
    }
   ],
   "source": [
    "import matplotlib.pyplot as plt\n",
    "import seaborn as sns\n",
    "\n",
    "# Get feature importances from the Random Forest model\n",
    "feature_importances = rf_model.feature_importances_\n",
    "feature_names = X_train.columns\n",
    "\n",
    "# Create a DataFrame for visualization\n",
    "importance_df = pd.DataFrame({\"Feature\": feature_names, \"Importance\": feature_importances})\n",
    "importance_df = importance_df.sort_values(by=\"Importance\", ascending=False)\n",
    "\n",
    "# Plot feature importances\n",
    "plt.figure(figsize=(12, 8))\n",
    "sns.barplot(x=\"Importance\", y=\"Feature\", data=importance_df, palette=\"viridis\")\n",
    "plt.title(\"Feature Importances (Random Forest)\")\n",
    "plt.xlabel(\"Importance\")\n",
    "plt.ylabel(\"Feature\")\n",
    "plt.show()\n",
    "\n",
    "# Display the top 10 most important features\n",
    "print(\"Top 10 Most Important Features:\")\n",
    "print(importance_df.head(10))"
   ]
  },
  {
   "cell_type": "markdown",
   "metadata": {},
   "source": [
    "Observations from Step 4:\n",
    "Top 10 Most Important Features:\n",
    "\n",
    "V14: Most important feature (21.41% importance).\n",
    "\n",
    "V10: Second most important feature (12.43% importance).\n",
    "\n",
    "V12, V4, V17, V3, V11, V16, V2, and V9 also contribute significantly to the model.\n",
    "\n",
    "Key Insights:\n",
    "\n",
    "The top 10 features account for the majority of the model’s predictive power.\n",
    "\n",
    "Features like V14, V10, and V12 are particularly important for detecting fraudulent transactions.\n",
    "\n",
    "Less important features (e.g., those with importance < 0.01) could potentially be removed to simplify the model without significantly affecting performance.\n",
    "\n"
   ]
  },
  {
   "cell_type": "code",
   "execution_count": 5,
   "metadata": {},
   "outputs": [
    {
     "name": "stdout",
     "output_type": "stream",
     "text": [
      "Classification Report (Random Forest - Top 10 Features):\n",
      "              precision    recall  f1-score   support\n",
      "\n",
      "           0       1.00      1.00      1.00     56750\n",
      "           1       1.00      1.00      1.00     56976\n",
      "\n",
      "    accuracy                           1.00    113726\n",
      "   macro avg       1.00      1.00      1.00    113726\n",
      "weighted avg       1.00      1.00      1.00    113726\n",
      "\n",
      "\n",
      "Confusion Matrix (Random Forest - Top 10 Features):\n",
      "[[56724    26]\n",
      " [    7 56969]]\n",
      "\n",
      "ROC-AUC Score (Random Forest - Top 10 Features):\n",
      "0.9999711168285402\n"
     ]
    }
   ],
   "source": [
    "# Select the top 10 most important features\n",
    "top_features = importance_df.head(10)[\"Feature\"].tolist()\n",
    "\n",
    "# Filter the training and testing sets to include only the top features\n",
    "X_train_top = X_train[top_features]\n",
    "X_test_top = X_test[top_features]\n",
    "\n",
    "# Train a new Random Forest model using only the top features\n",
    "rf_model_top = RandomForestClassifier(random_state=42, n_estimators=100)\n",
    "rf_model_top.fit(X_train_top, y_train)\n",
    "\n",
    "# Make predictions on the testing set\n",
    "y_pred_rf_top = rf_model_top.predict(X_test_top)\n",
    "y_pred_proba_rf_top = rf_model_top.predict_proba(X_test_top)[:, 1]\n",
    "\n",
    "# Evaluate the simplified model\n",
    "print(\"Classification Report (Random Forest - Top 10 Features):\")\n",
    "print(classification_report(y_test, y_pred_rf_top))\n",
    "\n",
    "print(\"\\nConfusion Matrix (Random Forest - Top 10 Features):\")\n",
    "print(confusion_matrix(y_test, y_pred_rf_top))\n",
    "\n",
    "print(\"\\nROC-AUC Score (Random Forest - Top 10 Features):\")\n",
    "print(roc_auc_score(y_test, y_pred_proba_rf_top))"
   ]
  },
  {
   "cell_type": "markdown",
   "metadata": {},
   "source": [
    "Observations from Step 5:\n",
    "Classification Report:\n",
    "\n",
    "Precision: 1.00 for both non-fraudulent (0) and fraudulent (1) transactions.\n",
    "\n",
    "Recall: 1.00 for both classes.\n",
    "\n",
    "F1-Score: 1.00 for both classes.\n",
    "\n",
    "The simplified model achieves perfect classification on the testing set.\n",
    "\n",
    "Confusion Matrix:\n",
    "\n",
    "True Positives (TP): 56,969 (all but 7 fraudulent transactions correctly predicted).\n",
    "\n",
    "True Negatives (TN): 56,724 (all but 26 non-fraudulent transactions correctly predicted).\n",
    "\n",
    "False Positives (FP): 26 (non-fraudulent transactions incorrectly predicted as fraudulent).\n",
    "\n",
    "False Negatives (FN): 7 (fraudulent transactions incorrectly predicted as non-fraudulent).\n",
    "\n",
    "ROC-AUC Score:\n",
    "\n",
    "The ROC-AUC score is 0.99997, which is almost perfect. This indicates that the simplified model can still distinguish between fraudulent and non-fraudulent transactions with near-perfect accuracy.\n",
    "\n",
    "Step 6: Save the Final Model"
   ]
  },
  {
   "cell_type": "code",
   "execution_count": 6,
   "metadata": {},
   "outputs": [
    {
     "name": "stderr",
     "output_type": "stream",
     "text": [
      "2025-02-23 00:18:47,741 - INFO - Saving model to C:\\project\\-Credit-Card-Fraud-Detection\\models\\fraud_detection_model.pkl\n"
     ]
    },
    {
     "name": "stdout",
     "output_type": "stream",
     "text": [
      "Simplified Random Forest model saved to C:\\project\\-Credit-Card-Fraud-Detection\\models\\fraud_detection_model.pkl\n"
     ]
    }
   ],
   "source": [
    "from scripts.config import MODEL_PATH\n",
    "from scripts.utils import save_model\n",
    "\n",
    "# Save the simplified Random Forest model\n",
    "save_model(rf_model_top, MODEL_PATH)\n",
    "\n",
    "print(f\"Simplified Random Forest model saved to {MODEL_PATH}\")"
   ]
  },
  {
   "cell_type": "code",
   "execution_count": null,
   "metadata": {},
   "outputs": [],
   "source": []
  }
 ],
 "metadata": {
  "kernelspec": {
   "display_name": "credit",
   "language": "python",
   "name": "python3"
  },
  "language_info": {
   "codemirror_mode": {
    "name": "ipython",
    "version": 3
   },
   "file_extension": ".py",
   "mimetype": "text/x-python",
   "name": "python",
   "nbconvert_exporter": "python",
   "pygments_lexer": "ipython3",
   "version": "3.12.4"
  }
 },
 "nbformat": 4,
 "nbformat_minor": 2
}
